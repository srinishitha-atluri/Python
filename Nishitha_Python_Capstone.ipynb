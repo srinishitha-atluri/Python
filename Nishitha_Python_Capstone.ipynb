{
 "cells": [
  {
   "cell_type": "code",
   "execution_count": 5,
   "id": "8483a1d6-4fc1-4f61-aae3-4afa921fdb97",
   "metadata": {},
   "outputs": [
    {
     "name": "stdout",
     "output_type": "stream",
     "text": [
      "      ID     Project       Cost    Status\n",
      "0   A001  Project 1   1002000.0  Finished\n",
      "1   A002   Project 2  2000000.0   Ongoing\n",
      "2   A003   Project 3  4500000.0  Finished\n",
      "3   A004   Project 4  5500000.0   Ongoing\n",
      "4   A005   Project 5        NaN  Finished\n",
      "5   A002   Project 6   680000.0    Failed\n",
      "6   A005   Project 7   400000.0  Finished\n",
      "7   A003   Project 8   350000.0    Failed\n",
      "8   A001   Project 9        NaN   Ongoing\n",
      "9   A003  Project 10   300000.0  Finished\n",
      "10  A001  Project 11  2000000.0    Failed\n",
      "11  A004  Project 12  1000000.0   Ongoing\n",
      "12  A004  Project 13  3000000.0  Finished\n",
      "13  A005  Project 14   200000.0  Finished\n"
     ]
    }
   ],
   "source": [
    "#TASK 1\n",
    "#importing pandas library\n",
    "import pandas as pd\n",
    "#importing numpy library\n",
    "import numpy as np\n",
    "#Defining the Project DataFrame by using list of lists, where each inner list represents a row in the DataFrame\n",
    "Project = pd.DataFrame([[\"A001\",\"Project 1 \",1002000,\"Finished\"],[\"A002\",\"Project 2\",2000000,\"Ongoing\"],[\"A003\",\"Project 3\",4500000,\"Finished\"],[\"A004\",\"Project 4\",5500000,\"Ongoing\"],[\"A005\",\"Project 5\",np.nan,\"Finished\"],[\"A002\",\"Project 6\",680000,\"Failed\"],[\"A005\",\"Project 7\",400000,\"Finished\"],[\"A003\",\"Project 8\",350000,\"Failed\"],[\"A001\",\"Project 9\",np.nan,\"Ongoing\"],[\"A003\",\"Project 10\",300000,\"Finished\"],[\"A001\",\"Project 11\",2000000,\"Failed\"],[\"A004\",\"Project 12\",1000000,\"Ongoing\"],[\"A004\",\"Project 13\",3000000,\"Finished\"],[\"A005\",\"Project 14\",200000,\"Finished\"]],columns = [\"ID\",\"Project\",\"Cost\",\"Status\"])\n",
    "#printing and checking the DataFrame created\n",
    "print(Project)"
   ]
  },
  {
   "cell_type": "code",
   "execution_count": 6,
   "id": "e6de6efe-b224-4f5b-a47f-0ffdc18626fc",
   "metadata": {},
   "outputs": [],
   "source": [
    "#Loading Project_Dataframe into .csv file\n",
    "Project.to_csv(\"Project_DataFrame.csv\")"
   ]
  },
  {
   "cell_type": "code",
   "execution_count": 7,
   "id": "69f107c6-c692-45cc-863e-1a240647db47",
   "metadata": {},
   "outputs": [
    {
     "name": "stdout",
     "output_type": "stream",
     "text": [
      "     ID             Name Gender     City  Age\n",
      "0  A001       John Alter      M    Paris   25\n",
      "1  A002  Alice Luxumberg      F   London   27\n",
      "2  A003    Tom Sabestine      M   Berlin   29\n",
      "3  A004       Nina Adgra      F  Newyork   31\n",
      "4  A005        Amy Johny      F   Madrid   30\n"
     ]
    }
   ],
   "source": [
    "#Defining the Employee DataFrame by using list of lists, where each inner list represents a row in the DataFrame\n",
    "Employee = pd.DataFrame([[\"A001\",\"John Alter\",\"M\",\"Paris\",25],[\"A002\",\"Alice Luxumberg\",\"F\",\"London\",27],[\"A003\",\"Tom Sabestine\",\"M\",\"Berlin\",29],[\"A004\",\"Nina Adgra\",\"F\",\"Newyork\",31],[\"A005\",\"Amy Johny\",\"F\",\"Madrid\",30]],columns = [\"ID\",\"Name\",\"Gender\",\"City\",\"Age\"])\n",
    "#printing and checking the DataFrame created\n",
    "print(Employee)"
   ]
  },
  {
   "cell_type": "code",
   "execution_count": 8,
   "id": "eb944b4d-2ced-4274-88f4-f14029702c89",
   "metadata": {},
   "outputs": [],
   "source": [
    "#Loading Employee_Dataframe into .csv file\n",
    "Employee.to_csv(\"Employee_DataFrame.csv\")"
   ]
  },
  {
   "cell_type": "code",
   "execution_count": 9,
   "id": "208e9f3c-06f1-4dce-be1f-83ad9f48b8ad",
   "metadata": {},
   "outputs": [
    {
     "name": "stdout",
     "output_type": "stream",
     "text": [
      "     ID  Designation Level\n",
      "0  A001                  2\n",
      "1  A002                  2\n",
      "2  A003                  3\n",
      "3  A004                  2\n",
      "4  A005                  3\n"
     ]
    }
   ],
   "source": [
    "#Defining the Seniority Level DataFrame by using list of lists, where each inner list represents a row in the DataFrame\n",
    "Seniority_level = pd.DataFrame([[\"A001\",2],[\"A002\",2],[\"A003\",3],[\"A004\",2],[\"A005\",3]],columns=[\"ID\",\"Designation Level\"])\n",
    "#printing and checking the DataFrame created\n",
    "print(Seniority_level)"
   ]
  },
  {
   "cell_type": "code",
   "execution_count": 10,
   "id": "b6b309f1-da6a-4296-8da8-296bc8dbda94",
   "metadata": {},
   "outputs": [],
   "source": [
    "#Loading Seniority_level_Dataframe into .csv file\n",
    "Seniority_level.to_csv(\"Seniority_level_DataFrame.csv\")"
   ]
  },
  {
   "cell_type": "code",
   "execution_count": 11,
   "id": "f3a5a086-3384-4a55-ba94-c1c9b8b1e8eb",
   "metadata": {},
   "outputs": [
    {
     "name": "stdout",
     "output_type": "stream",
     "text": [
      "CSV file loaded successfully!\n",
      "    Unnamed: 0    ID     Project       Cost    Status\n",
      "0            0  A001  Project 1   1002000.0  Finished\n",
      "1            1  A002   Project 2  2000000.0   Ongoing\n",
      "2            2  A003   Project 3  4500000.0  Finished\n",
      "3            3  A004   Project 4  5500000.0   Ongoing\n",
      "4            4  A005   Project 5        NaN  Finished\n",
      "5            5  A002   Project 6   680000.0    Failed\n",
      "6            6  A005   Project 7   400000.0  Finished\n",
      "7            7  A003   Project 8   350000.0    Failed\n",
      "8            8  A001   Project 9        NaN   Ongoing\n",
      "9            9  A003  Project 10   300000.0  Finished\n",
      "10          10  A001  Project 11  2000000.0    Failed\n",
      "11          11  A004  Project 12  1000000.0   Ongoing\n",
      "12          12  A004  Project 13  3000000.0  Finished\n",
      "13          13  A005  Project 14   200000.0  Finished\n"
     ]
    }
   ],
   "source": [
    "#TASK 2\n",
    "# Load the CSV file into a DataFrame\n",
    "Project_Loaded = pd.read_csv(r\"C:\\Users\\927534\\Project_DataFrame.csv\")\n",
    "#printing and checking the DataFrame which has been loaded from the .csv file\n",
    "print(\"CSV file loaded successfully!\")\n",
    "print(Project_Loaded)"
   ]
  },
  {
   "cell_type": "code",
   "execution_count": 12,
   "id": "26f54559-13c1-447a-ad1b-b8e6a74bea4f",
   "metadata": {},
   "outputs": [
    {
     "name": "stdout",
     "output_type": "stream",
     "text": [
      "    Unnamed: 0    ID     Project       Cost    Status\n",
      "0            0  A001  Project 1   1002000.0  Finished\n",
      "1            1  A002   Project 2  2000000.0   Ongoing\n",
      "2            2  A003   Project 3  4500000.0  Finished\n",
      "3            3  A004   Project 4  5500000.0   Ongoing\n",
      "4            4  A005   Project 5  3250500.0  Finished\n",
      "5            5  A002   Project 6   680000.0    Failed\n",
      "6            6  A005   Project 7   400000.0  Finished\n",
      "7            7  A003   Project 8   350000.0    Failed\n",
      "8            8  A001   Project 9  2210312.5   Ongoing\n",
      "9            9  A003  Project 10   300000.0  Finished\n",
      "10          10  A001  Project 11  2000000.0    Failed\n",
      "11          11  A004  Project 12  1000000.0   Ongoing\n",
      "12          12  A004  Project 13  3000000.0  Finished\n",
      "13          13  A005  Project 14   200000.0  Finished\n"
     ]
    }
   ],
   "source": [
    "#code for replacing the missing values by running average using for loop.\n",
    "cost_series = Project_Loaded['Cost']\n",
    "filled_costs = []\n",
    "for i in range(len(cost_series)):\n",
    "   if pd.isna(cost_series[i]):\n",
    "       avg = pd.Series(filled_costs).expanding().mean().iloc[-1]\n",
    "       filled_costs.append(avg)\n",
    "   else:\n",
    "       filled_costs.append(cost_series[i])\n",
    "Project_Loaded['Cost'] = filled_costs\n",
    "print(Project_Loaded)"
   ]
  },
  {
   "cell_type": "code",
   "execution_count": 13,
   "id": "43ba2105-a7b0-423b-9157-eac33adeac96",
   "metadata": {},
   "outputs": [
    {
     "name": "stdout",
     "output_type": "stream",
     "text": [
      "CSV file loaded successfully!\n",
      "   Unnamed: 0    ID             Name Gender     City  Age\n",
      "0           0  A001       John Alter      M    Paris   25\n",
      "1           1  A002  Alice Luxumberg      F   London   27\n",
      "2           2  A003    Tom Sabestine      M   Berlin   29\n",
      "3           3  A004       Nina Adgra      F  Newyork   31\n",
      "4           4  A005        Amy Johny      F   Madrid   30\n"
     ]
    }
   ],
   "source": [
    "#TASK 3\n",
    "# Load the Employee CSV file into a DataFrame\n",
    "Employee_Loaded = pd.read_csv(r\"C:\\Users\\927534\\Employee_DataFrame.csv\")\n",
    "print(\"CSV file loaded successfully!\")\n",
    "print(Employee_Loaded)"
   ]
  },
  {
   "cell_type": "code",
   "execution_count": 14,
   "id": "db7baef4-579b-4e18-a713-586160a82026",
   "metadata": {},
   "outputs": [
    {
     "name": "stdout",
     "output_type": "stream",
     "text": [
      "\n",
      "DataFrame after splitting and removing the 'name' column:\n",
      "   Unnamed: 0    ID Gender     City  Age First Name  Last Name\n",
      "0           0  A001      M    Paris   25       John      Alter\n",
      "1           1  A002      F   London   27      Alice  Luxumberg\n",
      "2           2  A003      M   Berlin   29        Tom  Sabestine\n",
      "3           3  A004      F  Newyork   31       Nina      Adgra\n",
      "4           4  A005      F   Madrid   30        Amy      Johny\n"
     ]
    }
   ],
   "source": [
    "# Split the \"name\" column into \"First Name\" and \"Last Name\" columns\n",
    "Employee_Loaded[['First Name', 'Last Name']] = Employee_Loaded['Name'].str.split(' ', n=1, expand=True)\n",
    "\n",
    "# Remove the original \"name\" column\n",
    "Employee_Loaded.drop(columns=['Name'], inplace=True)\n",
    "\n",
    "# Display the DataFrame after splitting and removing the \"name\" column\n",
    "print(\"\\nDataFrame after splitting and removing the 'name' column:\")\n",
    "print(Employee_Loaded)"
   ]
  },
  {
   "cell_type": "code",
   "execution_count": 24,
   "id": "5a929922-f7d2-4bbb-918b-154e603873dd",
   "metadata": {},
   "outputs": [
    {
     "name": "stdout",
     "output_type": "stream",
     "text": [
      "Final DataFrame:\n",
      "    Unnamed: 0_Project ID_Project     Project       Cost    Status  \\\n",
      "0                    0       A001  Project 1   1002000.0  Finished   \n",
      "1                    1       A002   Project 2  2000000.0   Ongoing   \n",
      "2                    2       A003   Project 3  4500000.0  Finished   \n",
      "3                    3       A004   Project 4  5500000.0   Ongoing   \n",
      "4                    4       A005   Project 5  3250500.0  Finished   \n",
      "5                    5       A002   Project 6   680000.0    Failed   \n",
      "6                    6       A005   Project 7   400000.0  Finished   \n",
      "7                    7       A003   Project 8   350000.0    Failed   \n",
      "8                    8       A001   Project 9  2210312.5   Ongoing   \n",
      "9                    9       A003  Project 10   300000.0  Finished   \n",
      "10                  10       A001  Project 11  2000000.0    Failed   \n",
      "11                  11       A004  Project 12  1000000.0   Ongoing   \n",
      "12                  12       A004  Project 13  3000000.0  Finished   \n",
      "13                  13       A005  Project 14   200000.0  Finished   \n",
      "\n",
      "    Unnamed: 0_Employee ID_Employee Gender     City   Age First Name  \\\n",
      "0                   0.0        A001      M    Paris  25.0       John   \n",
      "1                   1.0        A002      F   London  27.0      Alice   \n",
      "2                   2.0        A003      M   Berlin  29.0        Tom   \n",
      "3                   3.0        A004      F  Newyork  31.0       Nina   \n",
      "4                   4.0        A005      F   Madrid  30.0        Amy   \n",
      "5                   NaN         NaN    NaN      NaN   NaN        NaN   \n",
      "6                   NaN         NaN    NaN      NaN   NaN        NaN   \n",
      "7                   NaN         NaN    NaN      NaN   NaN        NaN   \n",
      "8                   NaN         NaN    NaN      NaN   NaN        NaN   \n",
      "9                   NaN         NaN    NaN      NaN   NaN        NaN   \n",
      "10                  NaN         NaN    NaN      NaN   NaN        NaN   \n",
      "11                  NaN         NaN    NaN      NaN   NaN        NaN   \n",
      "12                  NaN         NaN    NaN      NaN   NaN        NaN   \n",
      "13                  NaN         NaN    NaN      NaN   NaN        NaN   \n",
      "\n",
      "    Last Name  Unnamed: 0    ID  Designation Level  \n",
      "0       Alter         0.0  A001                2.0  \n",
      "1   Luxumberg         1.0  A002                2.0  \n",
      "2   Sabestine         2.0  A003                3.0  \n",
      "3       Adgra         3.0  A004                2.0  \n",
      "4       Johny         4.0  A005                3.0  \n",
      "5         NaN         NaN   NaN                NaN  \n",
      "6         NaN         NaN   NaN                NaN  \n",
      "7         NaN         NaN   NaN                NaN  \n",
      "8         NaN         NaN   NaN                NaN  \n",
      "9         NaN         NaN   NaN                NaN  \n",
      "10        NaN         NaN   NaN                NaN  \n",
      "11        NaN         NaN   NaN                NaN  \n",
      "12        NaN         NaN   NaN                NaN  \n",
      "13        NaN         NaN   NaN                NaN  \n"
     ]
    }
   ],
   "source": [
    "#TASK 4\n",
    "# Load Seniority_level_DataFrame CSV file into DataFrames as Project_DataFrame and Employee_DataFrame are already updated bases on the previous tasks.\n",
    "Senioritylevel_Loaded = pd.read_csv(r\"C:\\Users\\927534\\Seniority_level_DataFrame.csv\")\n",
    "# Joining DataFrames using join function with suffixes\n",
    "Final = Project_Loaded.join(Employee_Loaded, lsuffix='_Project', rsuffix='_Employee').join(Senioritylevel_Loaded, lsuffix='_Project', rsuffix='_Seniority')\n",
    "print(\"Final DataFrame:\")\n",
    "print(Final)"
   ]
  },
  {
   "cell_type": "code",
   "execution_count": 18,
   "id": "68a48c3b-c620-408f-8b5b-e70c3d3ff1b7",
   "metadata": {},
   "outputs": [
    {
     "name": "stdout",
     "output_type": "stream",
     "text": [
      "Final DataFrame with Bonus:\n",
      "    Unnamed: 0_Project ID_Project     Project       Cost    Status  \\\n",
      "0                    0       A001  Project 1   1002000.0  Finished   \n",
      "1                    1       A002   Project 2  2000000.0   Ongoing   \n",
      "2                    2       A003   Project 3  4500000.0  Finished   \n",
      "3                    3       A004   Project 4  5500000.0   Ongoing   \n",
      "4                    4       A005   Project 5  3250500.0  Finished   \n",
      "5                    5       A002   Project 6   680000.0    Failed   \n",
      "6                    6       A005   Project 7   400000.0  Finished   \n",
      "7                    7       A003   Project 8   350000.0    Failed   \n",
      "8                    8       A001   Project 9  2210312.5   Ongoing   \n",
      "9                    9       A003  Project 10   300000.0  Finished   \n",
      "10                  10       A001  Project 11  2000000.0    Failed   \n",
      "11                  11       A004  Project 12  1000000.0   Ongoing   \n",
      "12                  12       A004  Project 13  3000000.0  Finished   \n",
      "13                  13       A005  Project 14   200000.0  Finished   \n",
      "\n",
      "    Unnamed: 0_Employee ID_Employee Gender     City   Age First Name  \\\n",
      "0                   0.0        A001      M    Paris  25.0       John   \n",
      "1                   1.0        A002      F   London  27.0      Alice   \n",
      "2                   2.0        A003      M   Berlin  29.0        Tom   \n",
      "3                   3.0        A004      F  Newyork  31.0       Nina   \n",
      "4                   4.0        A005      F   Madrid  30.0        Amy   \n",
      "5                   NaN         NaN    NaN      NaN   NaN        NaN   \n",
      "6                   NaN         NaN    NaN      NaN   NaN        NaN   \n",
      "7                   NaN         NaN    NaN      NaN   NaN        NaN   \n",
      "8                   NaN         NaN    NaN      NaN   NaN        NaN   \n",
      "9                   NaN         NaN    NaN      NaN   NaN        NaN   \n",
      "10                  NaN         NaN    NaN      NaN   NaN        NaN   \n",
      "11                  NaN         NaN    NaN      NaN   NaN        NaN   \n",
      "12                  NaN         NaN    NaN      NaN   NaN        NaN   \n",
      "13                  NaN         NaN    NaN      NaN   NaN        NaN   \n",
      "\n",
      "    Last Name  Unnamed: 0    ID  Designation Level     Bonus  \n",
      "0       Alter         0.0  A001                2.0   50100.0  \n",
      "1   Luxumberg         1.0  A002                2.0       0.0  \n",
      "2   Sabestine         2.0  A003                3.0  225000.0  \n",
      "3       Adgra         3.0  A004                2.0       0.0  \n",
      "4       Johny         4.0  A005                3.0  162525.0  \n",
      "5         NaN         NaN   NaN                NaN       0.0  \n",
      "6         NaN         NaN   NaN                NaN   20000.0  \n",
      "7         NaN         NaN   NaN                NaN       0.0  \n",
      "8         NaN         NaN   NaN                NaN       0.0  \n",
      "9         NaN         NaN   NaN                NaN   15000.0  \n",
      "10        NaN         NaN   NaN                NaN       0.0  \n",
      "11        NaN         NaN   NaN                NaN       0.0  \n",
      "12        NaN         NaN   NaN                NaN  150000.0  \n",
      "13        NaN         NaN   NaN                NaN   10000.0  \n"
     ]
    }
   ],
   "source": [
    "#TASK 5\n",
    "# Add a new \"Bonus\" column using apply function and lambda function to check the conditons to approve Bonus\n",
    "Final['Bonus'] = Final.apply(lambda row: row['Cost'] * 0.05 if row['Status'] == 'Finished' else 0, axis=1)\n",
    "print(\"Final DataFrame with Bonus:\")\n",
    "print(Final)"
   ]
  },
  {
   "cell_type": "code",
   "execution_count": 19,
   "id": "63cb27de-c0a4-417d-ae55-1a0502675632",
   "metadata": {},
   "outputs": [
    {
     "name": "stdout",
     "output_type": "stream",
     "text": [
      "Final DataFrame after demotion and deletion:\n",
      "   Unnamed: 0_Project ID_Project     Project       Cost    Status  \\\n",
      "0                   0       A001  Project 1   1002000.0  Finished   \n",
      "1                   1       A002   Project 2  2000000.0   Ongoing   \n",
      "2                   2       A003   Project 3  4500000.0  Finished   \n",
      "3                   3       A004   Project 4  5500000.0   Ongoing   \n",
      "4                   4       A005   Project 5  3250500.0  Finished   \n",
      "\n",
      "   Unnamed: 0_Employee ID_Employee Gender     City   Age First Name  \\\n",
      "0                  0.0        A001      M    Paris  25.0       John   \n",
      "1                  1.0        A002      F   London  27.0      Alice   \n",
      "2                  2.0        A003      M   Berlin  29.0        Tom   \n",
      "3                  3.0        A004      F  Newyork  31.0       Nina   \n",
      "4                  4.0        A005      F   Madrid  30.0        Amy   \n",
      "\n",
      "   Last Name  Unnamed: 0    ID  Designation Level     Bonus  \n",
      "0      Alter         0.0  A001                2.0   50100.0  \n",
      "1  Luxumberg         1.0  A002                2.0       0.0  \n",
      "2  Sabestine         2.0  A003                3.0  225000.0  \n",
      "3      Adgra         3.0  A004                2.0       0.0  \n",
      "4      Johny         4.0  A005                3.0  162525.0  \n"
     ]
    }
   ],
   "source": [
    "#TASK 6\n",
    "# Demote the designation level by 1 for failed projects\n",
    "Final.loc[Final['Status'] == 'Failed', 'Designation Level'] -= 1\n",
    "\n",
    "# Delete records of employees whose designation level is above 4 and saving into a new DataFrame named Final_1, so Final DataFrame can be used for further tasks.\n",
    "Final_1 = Final[Final['Designation Level'] <= 4]\n",
    "\n",
    "#printing the DataFrame post Demoting Designantion level by 1 for failed projects and also deleting records of the employees whose designantion is above 4\n",
    "print(\"Final DataFrame after demotion and deletion:\")\n",
    "print(Final_1)"
   ]
  },
  {
   "cell_type": "code",
   "execution_count": 20,
   "id": "f4f6967c-7ec7-4de6-bca2-e3960232314c",
   "metadata": {},
   "outputs": [
    {
     "name": "stdout",
     "output_type": "stream",
     "text": [
      "\n",
      "DataFrame after adding prefix and dropping the 'Gender' column:\n",
      "    Unnamed: 0_Project ID_Project     Project       Cost    Status  \\\n",
      "0                    0       A001  Project 1   1002000.0  Finished   \n",
      "1                    1       A002   Project 2  2000000.0   Ongoing   \n",
      "2                    2       A003   Project 3  4500000.0  Finished   \n",
      "3                    3       A004   Project 4  5500000.0   Ongoing   \n",
      "4                    4       A005   Project 5  3250500.0  Finished   \n",
      "5                    5       A002   Project 6   680000.0    Failed   \n",
      "6                    6       A005   Project 7   400000.0  Finished   \n",
      "7                    7       A003   Project 8   350000.0    Failed   \n",
      "8                    8       A001   Project 9  2210312.5   Ongoing   \n",
      "9                    9       A003  Project 10   300000.0  Finished   \n",
      "10                  10       A001  Project 11  2000000.0    Failed   \n",
      "11                  11       A004  Project 12  1000000.0   Ongoing   \n",
      "12                  12       A004  Project 13  3000000.0  Finished   \n",
      "13                  13       A005  Project 14   200000.0  Finished   \n",
      "\n",
      "    Unnamed: 0_Employee ID_Employee     City   Age First Name  Last Name  \\\n",
      "0                   0.0        A001    Paris  25.0    Mr.John      Alter   \n",
      "1                   1.0        A002   London  27.0  Mrs.Alice  Luxumberg   \n",
      "2                   2.0        A003   Berlin  29.0     Mr.Tom  Sabestine   \n",
      "3                   3.0        A004  Newyork  31.0   Mrs.Nina      Adgra   \n",
      "4                   4.0        A005   Madrid  30.0    Mrs.Amy      Johny   \n",
      "5                   NaN         NaN      NaN   NaN        nan        NaN   \n",
      "6                   NaN         NaN      NaN   NaN        nan        NaN   \n",
      "7                   NaN         NaN      NaN   NaN        nan        NaN   \n",
      "8                   NaN         NaN      NaN   NaN        nan        NaN   \n",
      "9                   NaN         NaN      NaN   NaN        nan        NaN   \n",
      "10                  NaN         NaN      NaN   NaN        nan        NaN   \n",
      "11                  NaN         NaN      NaN   NaN        nan        NaN   \n",
      "12                  NaN         NaN      NaN   NaN        nan        NaN   \n",
      "13                  NaN         NaN      NaN   NaN        nan        NaN   \n",
      "\n",
      "    Unnamed: 0    ID  Designation Level     Bonus  \n",
      "0          0.0  A001                2.0   50100.0  \n",
      "1          1.0  A002                2.0       0.0  \n",
      "2          2.0  A003                3.0  225000.0  \n",
      "3          3.0  A004                2.0       0.0  \n",
      "4          4.0  A005                3.0  162525.0  \n",
      "5          NaN   NaN                NaN       0.0  \n",
      "6          NaN   NaN                NaN   20000.0  \n",
      "7          NaN   NaN                NaN       0.0  \n",
      "8          NaN   NaN                NaN       0.0  \n",
      "9          NaN   NaN                NaN   15000.0  \n",
      "10         NaN   NaN                NaN       0.0  \n",
      "11         NaN   NaN                NaN       0.0  \n",
      "12         NaN   NaN                NaN  150000.0  \n",
      "13         NaN   NaN                NaN   10000.0  \n"
     ]
    }
   ],
   "source": [
    "#TASK 7\n",
    "# Ensuring that the \"First Name\" column is of type string\n",
    "Final['First Name'] = Final['First Name'].astype(str)\n",
    "\n",
    "# Add \"Mr.\" and \"Mrs.\" to the \"First Name\" column based on gender\n",
    "Final['First Name'] = Final.apply(lambda row: 'Mr.' + row['First Name'] if row['Gender'] == 'M' else ('Mrs.' + row['First Name'] if row['Gender'] == 'F' else row['First Name']), axis=1)\n",
    "\n",
    "# Drop the \"Gender\" column\n",
    "Final.drop(columns=['Gender'], inplace=True)\n",
    "\n",
    "# Display the DataFrame after adding prefix and dropping the \"Gender\" column\n",
    "print(\"\\nDataFrame after adding prefix and dropping the 'Gender' column:\")\n",
    "print(Final)"
   ]
  },
  {
   "cell_type": "code",
   "execution_count": 23,
   "id": "7848d5ed-ab0c-4981-b463-f486389be0c8",
   "metadata": {},
   "outputs": [
    {
     "name": "stdout",
     "output_type": "stream",
     "text": [
      "Final DataFrame with updated Age and Designation Level:\n",
      "    Unnamed: 0_Project ID_Project     Project       Cost    Status  \\\n",
      "0                    0       A001  Project 1   1002000.0  Finished   \n",
      "1                    1       A002   Project 2  2000000.0   Ongoing   \n",
      "2                    2       A003   Project 3  4500000.0  Finished   \n",
      "3                    3       A004   Project 4  5500000.0   Ongoing   \n",
      "4                    4       A005   Project 5  3250500.0  Finished   \n",
      "5                    5       A002   Project 6   680000.0    Failed   \n",
      "6                    6       A005   Project 7   400000.0  Finished   \n",
      "7                    7       A003   Project 8   350000.0    Failed   \n",
      "8                    8       A001   Project 9  2210312.5   Ongoing   \n",
      "9                    9       A003  Project 10   300000.0  Finished   \n",
      "10                  10       A001  Project 11  2000000.0    Failed   \n",
      "11                  11       A004  Project 12  1000000.0   Ongoing   \n",
      "12                  12       A004  Project 13  3000000.0  Finished   \n",
      "13                  13       A005  Project 14   200000.0  Finished   \n",
      "\n",
      "    Unnamed: 0_Employee ID_Employee     City   Age First Name  Last Name  \\\n",
      "0                   0.0        A001    Paris  25.0    Mr.John      Alter   \n",
      "1                   1.0        A002   London  27.0  Mrs.Alice  Luxumberg   \n",
      "2                   2.0        A003   Berlin  29.0     Mr.Tom  Sabestine   \n",
      "3                   3.0        A004  Newyork  31.0   Mrs.Nina      Adgra   \n",
      "4                   4.0        A005   Madrid  30.0    Mrs.Amy      Johny   \n",
      "5                   NaN         NaN      NaN   NaN        nan        NaN   \n",
      "6                   NaN         NaN      NaN   NaN        nan        NaN   \n",
      "7                   NaN         NaN      NaN   NaN        nan        NaN   \n",
      "8                   NaN         NaN      NaN   NaN        nan        NaN   \n",
      "9                   NaN         NaN      NaN   NaN        nan        NaN   \n",
      "10                  NaN         NaN      NaN   NaN        nan        NaN   \n",
      "11                  NaN         NaN      NaN   NaN        nan        NaN   \n",
      "12                  NaN         NaN      NaN   NaN        nan        NaN   \n",
      "13                  NaN         NaN      NaN   NaN        nan        NaN   \n",
      "\n",
      "    Unnamed: 0    ID  Designation Level     Bonus  \n",
      "0          0.0  A001                2.0   50100.0  \n",
      "1          1.0  A002                2.0       0.0  \n",
      "2          2.0  A003                3.0  225000.0  \n",
      "3          3.0  A004                3.0       0.0  \n",
      "4          4.0  A005                4.0  162525.0  \n",
      "5          NaN   NaN                NaN       0.0  \n",
      "6          NaN   NaN                NaN   20000.0  \n",
      "7          NaN   NaN                NaN       0.0  \n",
      "8          NaN   NaN                NaN       0.0  \n",
      "9          NaN   NaN                NaN   15000.0  \n",
      "10         NaN   NaN                NaN       0.0  \n",
      "11         NaN   NaN                NaN       0.0  \n",
      "12         NaN   NaN                NaN  150000.0  \n",
      "13         NaN   NaN                NaN   10000.0  \n"
     ]
    }
   ],
   "source": [
    "#TASK 8\n",
    "# Fetching specific columns\n",
    "age_and_designation = Final[['Age', 'Designation Level']]\n",
    "\n",
    "# Function to promote designation level\n",
    "def promote_designation(row):\n",
    "    if row['Age'] > 29:\n",
    "        row['Designation Level'] += 1\n",
    "    return row\n",
    "\n",
    "# Apply the function to the DataFrame\n",
    "Final = Final.apply(promote_designation, axis=1)\n",
    "\n",
    "print(\"Final DataFrame with updated Age and Designation Level:\")\n",
    "print(Final)\n"
   ]
  },
  {
   "cell_type": "code",
   "execution_count": 32,
   "id": "51316981-139d-409e-8650-aadbb7acd2e4",
   "metadata": {},
   "outputs": [
    {
     "name": "stdout",
     "output_type": "stream",
     "text": [
      "TotalProjCost DataFrame:\n",
      "     ID First Name  Total Cost\n",
      "0  A001       John   5212312.5\n",
      "1  A002      Alice   2680000.0\n",
      "2  A003        Tom   5150000.0\n",
      "3  A004       Nina   9500000.0\n",
      "4  A005        Amy   3850500.0\n"
     ]
    }
   ],
   "source": [
    "#TASK 9\n",
    "# Group by ID and sum the Cost\n",
    "TotalProjCost = Project_Loaded.groupby('ID')['Cost'].sum().reset_index()\n",
    "#printed and checked the Total Project cost\n",
    "#print(TotalProjCost) \n",
    "\n",
    "# Merge with employee DataFrame to get First Name\n",
    "TotalProjCost = TotalProjCost.merge(Employee_Loaded, on = 'ID')\n",
    "\n",
    "# Select relevant columns\n",
    "TotalProjCost = TotalProjCost[['ID','First Name','Cost']]\n",
    "\n",
    "# Rename columns as last column name needs to be Total Cost\n",
    "TotalProjCost.columns = ['ID','First Name','Total Cost']\n",
    "\n",
    "print(\"TotalProjCost DataFrame:\")\n",
    "print(TotalProjCost)"
   ]
  },
  {
   "cell_type": "code",
   "execution_count": 33,
   "id": "ec9cd885-a6ee-49ef-a6f9-fea010874876",
   "metadata": {},
   "outputs": [
    {
     "name": "stdout",
     "output_type": "stream",
     "text": [
      "   Unnamed: 0    ID Gender     City  Age First Name  Last Name\n",
      "1           1  A002      F   London   27      Alice  Luxumberg\n",
      "3           3  A004      F  Newyork   31       Nina      Adgra\n"
     ]
    }
   ],
   "source": [
    "#Task 10\n",
    "#filtering the employee dataframe with the \n",
    "filtered_employee_table = Employee_Loaded[Employee_Loaded['City'].str.contains('o')]\n",
    "print(filtered_employee_table)"
   ]
  }
 ],
 "metadata": {
  "kernelspec": {
   "display_name": "Python 3 (ipykernel)",
   "language": "python",
   "name": "python3"
  },
  "language_info": {
   "codemirror_mode": {
    "name": "ipython",
    "version": 3
   },
   "file_extension": ".py",
   "mimetype": "text/x-python",
   "name": "python",
   "nbconvert_exporter": "python",
   "pygments_lexer": "ipython3",
   "version": "3.13.2"
  }
 },
 "nbformat": 4,
 "nbformat_minor": 5
}
